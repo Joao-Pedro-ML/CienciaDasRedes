{
 "cells": [
  {
   "cell_type": "markdown",
   "metadata": {},
   "source": [
    "Alunos: Mariana Gonçalves Rodrigues, Anderson Soares da Silva - R.A: 2151014, 2150875\n",
    "\n",
    "1- Usando a rede do desafio \"GraphMissingEdges.gml\", faça o que é pedido abaixo\n",
    "\n",
    "a- Compute a centralidade de grau e identifique os top 50 lugares de acordo com essa métrica. Mostre o nome e categorias dos lugares."
   ]
  },
  {
   "cell_type": "code",
   "execution_count": null,
   "metadata": {},
   "outputs": [],
   "source": [
    "import networkx as nx\n",
    "\n",
    "G = nx.read_gml('GraphMissingEdges.gml')\n",
    "\n",
    "# centralidade de grau\n",
    "degree_centrality = nx.degree_centrality(G)\n",
    "\n",
    "# Classificação dos nós com base na centralidade de grau\n",
    "top_places = sorted(degree_centrality.items(), key=lambda x: x[1], reverse=True)[:50]\n",
    "\n",
    "for node_id, centrality in top_places:\n",
    "    place_name = G.nodes[node_id]['name']\n",
    "    categories = G.nodes[node_id]['categories']\n",
    "    print(f\"Lugar: {place_name}, Categorias: {categories}, Centralidade de Grau: {centrality}\")"
   ]
  }
 ],
 "metadata": {
  "language_info": {
   "name": "python"
  },
  "orig_nbformat": 4
 },
 "nbformat": 4,
 "nbformat_minor": 2
}
